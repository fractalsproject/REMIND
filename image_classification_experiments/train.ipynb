{
  "nbformat": 4,
  "nbformat_minor": 0,
  "metadata": {
    "colab": {
      "name": "train.ipynb",
      "provenance": [],
      "machine_shape": "hm",
      "authorship_tag": "ABX9TyMFaLu+0wtxaPQN4BMl5faf",
      "include_colab_link": true
    },
    "kernelspec": {
      "name": "python3",
      "display_name": "Python 3"
    },
    "accelerator": "GPU"
  },
  "cells": [
    {
      "cell_type": "markdown",
      "metadata": {
        "id": "view-in-github",
        "colab_type": "text"
      },
      "source": [
        "<a href=\"https://colab.research.google.com/github/fractalsproject/REMIND/blob/master/image_classification_experiments/train.ipynb\" target=\"_parent\"><img src=\"https://colab.research.google.com/assets/colab-badge.svg\" alt=\"Open In Colab\"/></a>"
      ]
    },
    {
      "cell_type": "code",
      "metadata": {
        "id": "ExMv4z8_T99y",
        "colab_type": "code",
        "colab": {}
      },
      "source": [
        "# try to get the bare minimum to get a new conda env working\n",
        "conda_path = ''\n",
        "try:\n",
        "    conda_path = !which conda\n",
        "finally:\n",
        "    print('')\n",
        "\n",
        "if (len(conda_path) == 0):\n",
        "    print('installing miniconda')\n",
        "    %env PYTHONPATH=\n",
        "#    !wget https://repo.continuum.io/miniconda/Miniconda3-py38_4.8.3-Linux-x86_64.sh && bash Miniconda3-py38_4.8.3-Linux-x86_64.sh -bfp /usr/local\n",
        "    !wget https://repo.continuum.io/miniconda/Miniconda3-4.5.4-Linux-x86_64.sh && bash Miniconda3-4.5.4-Linux-x86_64.sh -bfp /usr/local\n",
        "    !conda update conda -y -q\n",
        "    !source /usr/local/etc/profile.d/conda.sh\n",
        "    !conda init \n",
        "    #!conda install -n root _license -y -q\n",
        "    !conda install --channel defaults conda python=3.6 --yes\n",
        "    !conda update --channel defaults --all --yes\n",
        "else:\n",
        "    print('found miniconda')\n",
        "\n",
        "import sys\n",
        "sys.path.append(\"/usr/local/lib/python3.6/site-packages\")\n",
        "sys.path\n",
        "\n",
        "!conda install numpy=1.18.5 --yes\n",
        "!conda install pytorch=1.3.1 torchvision=0.4.2 cudatoolkit=10.1 -c pytorch --yes\n",
        "!conda install faiss-gpu=1.5.2 -c pytorch --yes\n",
        "\n",
        "!apt install libomp-dev\n",
        "!pip install faiss-gpu\n",
        "import faiss\n",
        "\n",
        "!git clone https://github.com/fractalsproject/REMIND.git"
      ],
      "execution_count": null,
      "outputs": []
    },
    {
      "cell_type": "code",
      "metadata": {
        "id": "RQ2qRmBKFOWg",
        "colab_type": "code",
        "colab": {
          "base_uri": "https://localhost:8080/",
          "height": 289
        },
        "outputId": "093955a2-1838-413b-a82b-47d63be11eb2"
      },
      "source": [
        "!ls && cd REMIND && ls && git pull origin master && cd image_classification_experiments && ls && ./run_imagenet_experiment.sh /content/REMIND"
      ],
      "execution_count": 2,
      "outputs": [
        {
          "output_type": "stream",
          "text": [
            "Miniconda3-4.5.4-Linux-x86_64.sh  REMIND  sample_data\n",
            "image_classification_experiments  README.md    vqa_experiments\n",
            "LICENSE\t\t\t\t  repo_images\n",
            "From https://github.com/fractalsproject/REMIND\n",
            " * branch            master     -> FETCH_HEAD\n",
            "Already up to date.\n",
            "imagenet_base_initialization.py     run_imagenet_experiment.sh\n",
            "imagenet_experiment.py\t\t    streaming_experiments\n",
            "imagenet_files\t\t\t    train_base_init_network_from_scratch.py\n",
            "make_numpy_imagenet_label_files.py  train_base_init_network.sh\n",
            "model_eval.ipynb\t\t    train.ipynb\n",
            "REMINDModel.py\t\t\t    utils_imagenet.py\n",
            "resnet_models.py\t\t    utils.py\n",
            "retrieve_any_layer.py\n",
            "/content/REMIND\n",
            "./run_imagenet_experiment.sh: line 28: logs/remind_imagenet.log: No such file or directory\n"
          ],
          "name": "stdout"
        }
      ]
    }
  ]
}