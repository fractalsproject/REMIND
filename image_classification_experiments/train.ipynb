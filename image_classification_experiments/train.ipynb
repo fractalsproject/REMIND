{
  "nbformat": 4,
  "nbformat_minor": 0,
  "metadata": {
    "colab": {
      "name": "train.ipynb",
      "provenance": [],
      "machine_shape": "hm"
    },
    "kernelspec": {
      "name": "python3",
      "display_name": "Python 3"
    }
  },
  "cells": [
    {
      "cell_type": "code",
      "metadata": {
        "id": "ExMv4z8_T99y",
        "colab_type": "code",
        "colab": {}
      },
      "source": [
        "# try to get the bare minimum to get a new conda env working\n",
        "conda_path = ''\n",
        "try:\n",
        "    conda_path = !which conda\n",
        "finally:\n",
        "    print('')\n",
        "\n",
        "if (len(conda_path) == 0):\n",
        "    print('installing miniconda')\n",
        "    %env PYTHONPATH=\n",
        "#    !wget https://repo.continuum.io/miniconda/Miniconda3-py38_4.8.3-Linux-x86_64.sh && bash Miniconda3-py38_4.8.3-Linux-x86_64.sh -bfp /usr/local\n",
        "    !wget https://repo.continuum.io/miniconda/Miniconda3-4.5.4-Linux-x86_64.sh && bash Miniconda3-4.5.4-Linux-x86_64.sh -bfp /usr/local\n",
        "    !conda update conda -y -q\n",
        "    !source /usr/local/etc/profile.d/conda.sh\n",
        "    !conda init \n",
        "    #!conda install -n root _license -y -q\n",
        "    !conda install --channel defaults conda python=3.6 --yes\n",
        "    !conda update --channel defaults --all --yes\n",
        "else:\n",
        "    print('found miniconda')\n",
        "\n",
        "import sys\n",
        "sys.path.append(\"/usr/local/lib/python3.6/site-packages\")\n",
        "sys.path\n",
        "\n",
        "!conda install numpy=1.18.5 --yes\n",
        "!conda install pytorch=1.3.1 torchvision=0.4.2 cudatoolkit=10.1 -c pytorch --yes\n",
        "!conda install faiss-gpu=1.5.2 -c pytorch --yes\n",
        "\n",
        "!apt install libomp-dev\n",
        "!pip install faiss-gpu\n",
        "import faiss\n",
        "import os\n",
        "from google.colab import auth\n",
        "\n",
        "!git clone https://github.com/fractalsproject/REMIND.git"
      ],
      "execution_count": null,
      "outputs": []
    },
    {
      "cell_type": "code",
      "metadata": {
        "id": "RQ2qRmBKFOWg",
        "colab_type": "code",
        "colab": {}
      },
      "source": [
        "!ls && cd REMIND && ls && git pull origin master && cd image_classification_experiments && ls && ./run_imagenet_experiment.sh # /content/REMIND"
      ],
      "execution_count": null,
      "outputs": []
    },
    {
      "cell_type": "code",
      "metadata": {
        "id": "oFWslbUFa-Sx",
        "colab_type": "code",
        "colab": {}
      },
      "source": [
        "import os\n",
        "from google.colab import auth\n",
        "\n",
        "if not os.path.exists(\"mounted\"):\n",
        "\n",
        "  print(\"Could not find local folder 'mounted', mounting it with gcsfuse.\")\n",
        "\n",
        "  # mount storage bucket as a folder\n",
        "  auth.authenticate_user()\n",
        "  !echo \"deb http://packages.cloud.google.com/apt gcsfuse-bionic main\" > /etc/apt/sources.list.d/gcsfuse.list\n",
        "  !curl https://packages.cloud.google.com/apt/doc/apt-key.gpg | apt-key add -\n",
        "  !apt -qq update\n",
        "  !apt -qq install gcsfuse\n",
        "\n",
        "  !mkdir mounted\n",
        "  !gcsfuse --implicit-dirs fractalsproject mounted\n",
        "  print(\"Mount completed.  Listing the contents of the folder.\")\n",
        "  !ls mounted\n",
        "else:\n",
        "\n",
        "  print(\"Mount folder exists.  Listing the contents of the folder:\")\n",
        "  !ls mounted\n",
        "\n",
        "  print(\"Note, that if you are having trouble, consider removing the local mount path using this command in another notebook cell \\\"!rm -r folderOnColab\\\"\")"
      ],
      "execution_count": null,
      "outputs": []
    },
    {
      "cell_type": "code",
      "metadata": {
        "id": "gBJov6xMk7gX",
        "colab_type": "code",
        "colab": {}
      },
      "source": [
        "!fusermount -u mounted/"
      ],
      "execution_count": null,
      "outputs": []
    },
    {
      "cell_type": "code",
      "metadata": {
        "id": "H86xUb0YnlTL",
        "colab_type": "code",
        "colab": {}
      },
      "source": [
        ""
      ],
      "execution_count": null,
      "outputs": []
    },
    {
      "cell_type": "code",
      "metadata": {
        "id": "_UooPntHhVRx",
        "colab_type": "code",
        "colab": {}
      },
      "source": [
        "!rm -r mounted"
      ],
      "execution_count": null,
      "outputs": []
    },
    {
      "cell_type": "code",
      "metadata": {
        "id": "jiVWQAgSgXxK",
        "colab_type": "code",
        "colab": {}
      },
      "source": [
        "!cd mounted/ && ls"
      ],
      "execution_count": null,
      "outputs": []
    },
    {
      "cell_type": "code",
      "metadata": {
        "id": "JYFKIhTYgwLV",
        "colab_type": "code",
        "colab": {}
      },
      "source": [
        ""
      ],
      "execution_count": null,
      "outputs": []
    }
  ]
}