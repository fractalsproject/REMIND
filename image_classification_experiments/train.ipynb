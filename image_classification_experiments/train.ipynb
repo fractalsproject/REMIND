{
  "nbformat": 4,
  "nbformat_minor": 0,
  "metadata": {
    "colab": {
      "name": "train.ipynb",
      "provenance": [],
      "machine_shape": "hm"
    },
    "kernelspec": {
      "name": "python3",
      "display_name": "Python 3"
    }
  },
  "cells": [
    {
      "cell_type": "code",
      "metadata": {
        "id": "ExMv4z8_T99y",
        "colab_type": "code",
        "colab": {}
      },
      "source": [
        "# try to get the bare minimum to get a new conda env working\n",
        "conda_path = ''\n",
        "try:\n",
        "    conda_path = !which conda\n",
        "finally:\n",
        "    print('')\n",
        "\n",
        "if (len(conda_path) == 0):\n",
        "    print('installing miniconda')\n",
        "    %env PYTHONPATH=\n",
        "#    !wget https://repo.continuum.io/miniconda/Miniconda3-py38_4.8.3-Linux-x86_64.sh && bash Miniconda3-py38_4.8.3-Linux-x86_64.sh -bfp /usr/local\n",
        "    !wget https://repo.continuum.io/miniconda/Miniconda3-4.5.4-Linux-x86_64.sh && bash Miniconda3-4.5.4-Linux-x86_64.sh -bfp /usr/local\n",
        "    !conda update conda -y -q\n",
        "    !source /usr/local/etc/profile.d/conda.sh\n",
        "    !conda init \n",
        "    #!conda install -n root _license -y -q\n",
        "    !conda install --channel defaults conda python=3.6 --yes\n",
        "    !conda update --channel defaults --all --yes\n",
        "else:\n",
        "    print('found miniconda')\n",
        "\n",
        "import sys\n",
        "sys.path.append(\"/usr/local/lib/python3.6/site-packages\")\n",
        "sys.path\n",
        "\n",
        "!conda install numpy=1.18.5 --yes\n",
        "!conda install pytorch=1.3.1 torchvision=0.4.2 cudatoolkit=10.1 -c pytorch --yes\n",
        "!conda install faiss-gpu=1.5.2 -c pytorch --yes\n",
        "\n",
        "!apt install libomp-dev\n",
        "!pip install faiss-gpu\n",
        "import faiss\n",
        "import os\n",
        "from google.colab import auth\n",
        "\n",
        "!git clone https://github.com/fractalsproject/REMIND.git"
      ],
      "execution_count": null,
      "outputs": []
    },
    {
      "cell_type": "code",
      "metadata": {
        "id": "RQ2qRmBKFOWg",
        "colab_type": "code",
        "colab": {
          "base_uri": "https://localhost:8080/",
          "height": 293
        },
        "outputId": "f801f0e5-dc8e-4525-95c7-104a13218b90"
      },
      "source": [
        "!ls && cd REMIND && ls && git pull origin master && cd image_classification_experiments && ls && ./run_imagenet_experiment.sh # /content/REMIND"
      ],
      "execution_count": 8,
      "outputs": [
        {
          "output_type": "stream",
          "text": [
            "Miniconda3-4.5.4-Linux-x86_64.sh  REMIND  sample_data\n",
            "image_classification_experiments  logs\t     repo_images\n",
            "LICENSE\t\t\t\t  README.md  vqa_experiments\n",
            "From https://github.com/fractalsproject/REMIND\n",
            " * branch            master     -> FETCH_HEAD\n",
            "Already up to date.\n",
            "imagenet_base_initialization.py     run_imagenet_experiment.sh\n",
            "imagenet_experiment.py\t\t    streaming_experiments\n",
            "imagenet_files\t\t\t    train_base_init_network_from_scratch.py\n",
            "make_numpy_imagenet_label_files.py  train_base_init_network.sh\n",
            "model_eval.ipynb\t\t    train.ipynb\n",
            "REMINDModel.py\t\t\t    utils_imagenet.py\n",
            "resnet_models.py\t\t    utils.py\n",
            "retrieve_any_layer.py\n",
            "\n",
            "./run_imagenet_experiment.sh: line 9: cd: /image_classification_experiments: No such file or directory\n",
            "./run_imagenet_experiment.sh: line 28: logs/remind_imagenet.log: No such file or directory\n"
          ],
          "name": "stdout"
        }
      ]
    },
    {
      "cell_type": "code",
      "metadata": {
        "id": "oFWslbUFa-Sx",
        "colab_type": "code",
        "colab": {
          "base_uri": "https://localhost:8080/",
          "height": 248
        },
        "outputId": "f82a94c8-acdd-42c7-8c17-702f665a7cb3"
      },
      "source": [
        "if not os.path.exists(\"/mounted\"):\n",
        "\n",
        "  print(\"Could not find local folder 'mounted', mounting it with gcsfuse.\")\n",
        "\n",
        "  # mount storage bucket as a folder\n",
        "  auth.authenticate_user()\n",
        "  !echo \"deb http://packages.cloud.google.com/apt gcsfuse-bionic main\" > /etc/apt/sources.list.d/gcsfuse.list\n",
        "  !curl https://packages.cloud.google.com/apt/doc/apt-key.gpg | apt-key add -\n",
        "  !apt -qq update\n",
        "  !apt -qq install gcsfuse\n",
        "\n",
        "  !mkdir mounted\n",
        "  !gcsfuse --implicit-dirs gs://fractalsproject/imagenet/data mounted\n",
        "  print(\"Mount completed.  Listing the contents of the folder.\")\n",
        "  !ls mounted\n",
        "else:\n",
        "\n",
        "  print(\"Mount folder exists.  Listing the contents of the folder:\")\n",
        "  !ls mounted\n",
        "\n",
        "  print(\"Note, that if you are having trouble, consider removing the local mount path using this command in another notebook cell \\\"!rm -r folderOnColab\\\"\")"
      ],
      "execution_count": 41,
      "outputs": [
        {
          "output_type": "stream",
          "text": [
            "Could not find local folder 'mounted', mounting it with gcsfuse.\n",
            "  % Total    % Received % Xferd  Average Speed   Time    Time     Time  Current\n",
            "                                 Dload  Upload   Total   Spent    Left  Speed\n",
            "100   653  100   653    0     0  21766      0 --:--:-- --:--:-- --:--:-- 21766\n",
            "OK\n",
            "36 packages can be upgraded. Run 'apt list --upgradable' to see them.\n",
            "gcsfuse is already the newest version (0.30.0).\n",
            "0 upgraded, 0 newly installed, 0 to remove and 36 not upgraded.\n",
            "Using mount point: /content/mounted\n",
            "Opening GCS connection...\n",
            "Opening bucket...\n",
            "daemonize.Run: readFromProcess: sub-process: mountWithArgs: mountWithConn: setUpBucket: OpenBucket: Unknown bucket \"gs://fractalsproject/imagenet/data\"\n",
            "Mount completed.  Listing the contents of the folder.\n"
          ],
          "name": "stdout"
        }
      ]
    },
    {
      "cell_type": "code",
      "metadata": {
        "id": "gBJov6xMk7gX",
        "colab_type": "code",
        "colab": {
          "base_uri": "https://localhost:8080/",
          "height": 33
        },
        "outputId": "1822dfaf-c9ba-40b6-99e7-c2b904c40209"
      },
      "source": [
        "!fusermount -u mounted/"
      ],
      "execution_count": 36,
      "outputs": [
        {
          "output_type": "stream",
          "text": [
            "fusermount: failed to unmount /content/mounted: Invalid argument\n"
          ],
          "name": "stdout"
        }
      ]
    },
    {
      "cell_type": "code",
      "metadata": {
        "id": "H86xUb0YnlTL",
        "colab_type": "code",
        "colab": {}
      },
      "source": [
        ""
      ],
      "execution_count": null,
      "outputs": []
    },
    {
      "cell_type": "code",
      "metadata": {
        "id": "_UooPntHhVRx",
        "colab_type": "code",
        "colab": {}
      },
      "source": [
        "!rm -r mounted"
      ],
      "execution_count": 40,
      "outputs": []
    },
    {
      "cell_type": "code",
      "metadata": {
        "id": "jiVWQAgSgXxK",
        "colab_type": "code",
        "colab": {}
      },
      "source": [
        "!cd mounted/ && ls"
      ],
      "execution_count": 42,
      "outputs": []
    },
    {
      "cell_type": "code",
      "metadata": {
        "id": "JYFKIhTYgwLV",
        "colab_type": "code",
        "colab": {}
      },
      "source": [
        ""
      ],
      "execution_count": null,
      "outputs": []
    }
  ]
}